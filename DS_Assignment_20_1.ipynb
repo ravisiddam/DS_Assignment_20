{
 "cells": [
  {
   "cell_type": "markdown",
   "metadata": {},
   "source": [
    "1. What are the three stages to build the hypotheses or model in machine learning?\n",
    "\n",
    "IN ML, we first build the model then test the model and Deploy the model to use for new data"
   ]
  },
  {
   "cell_type": "markdown",
   "metadata": {},
   "source": [
    "2. What is the standard approach to supervised learning?\n",
    "\n",
    "supervised learning uses labeled dataset with split into training and test sets."
   ]
  },
  {
   "cell_type": "markdown",
   "metadata": {},
   "source": [
    "3. What is Training set and Test set?\n",
    "\n",
    "In supervised learning, training set is used by model to learn about data patterns and test is used to test the accuracy of the output."
   ]
  },
  {
   "cell_type": "markdown",
   "metadata": {},
   "source": [
    "4. What is the general principle of an ensemble method and what is bagging and boosting in ensemble method?\n",
    "ensemble methods for combining predictions from multiple separate models.\n",
    "two most common methods are Bagging and boosting.\n",
    "Bagging uses complex base models and tries to \"smooth out\" their predictions, while boosting uses simple base models and tries to \"boost\" their aggregate complexity."
   ]
  },
  {
   "cell_type": "markdown",
   "metadata": {},
   "source": [
    "5. How can you avoid overfitting ?\n",
    "overfit model predicts well on training dataset but not with new or unseen dataset.\n",
    "we can avoid by using the following\n",
    "1. use cross validation technique\n",
    "2. train with more data\n",
    "3. removing features"
   ]
  }
 ],
 "metadata": {
  "kernelspec": {
   "display_name": "Python 3",
   "language": "python",
   "name": "python3"
  },
  "language_info": {
   "codemirror_mode": {
    "name": "ipython",
    "version": 3
   },
   "file_extension": ".py",
   "mimetype": "text/x-python",
   "name": "python",
   "nbconvert_exporter": "python",
   "pygments_lexer": "ipython3",
   "version": "3.6.5"
  }
 },
 "nbformat": 4,
 "nbformat_minor": 2
}
